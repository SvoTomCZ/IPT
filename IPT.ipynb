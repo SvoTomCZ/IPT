{
 "cells": [
  {
   "cell_type": "code",
   "execution_count": 51,
   "id": "c0bb8b22",
   "metadata": {},
   "outputs": [],
   "source": [
    "import numpy as np\n",
    "import scipy\n",
    "from scipy import stats"
   ]
  },
  {
   "cell_type": "code",
   "execution_count": 52,
   "id": "465d984d",
   "metadata": {},
   "outputs": [
    {
     "name": "stdout",
     "output_type": "stream",
     "text": [
      "Aritmerticky priemer: 5.75\n",
      "Vyberovy rozptyl: 5.249999999999993\n",
      "Modus: 7.0\n",
      "Median: 6.0\n"
     ]
    }
   ],
   "source": [
    "# PRIKLAD 1 - uloha 1\n",
    "\n",
    "#INPUT\n",
    "uniq_vals = np.array([3, 4, 5, 7, 9])\n",
    "rel_cum_freqs = np.array([0.25, 0.4, 0.5, 0.8, 1])\n",
    "n = 20\n",
    "#-----\n",
    "\n",
    "cum_freqs = rel_cum_freqs * n\n",
    "\n",
    "last = 0\n",
    "abs_freqs = np.array([])\n",
    "for i in cum_freqs:\n",
    "    abs_freqs = np.append(abs_freqs, i - last)\n",
    "    last = i\n",
    "    \n",
    "vals = np.array([])\n",
    "for i in range(uniq_vals.size):\n",
    "    for j in range(int(abs_freqs[i])):\n",
    "        vals = np.append(vals, uniq_vals[i])\n",
    "\n",
    "average = vals.sum() / n\n",
    "print(\"Aritmerticky priemer: \" + str(average))\n",
    "\n",
    "var = (1/(n-1)) * np.sum(vals**2) - (n/(n-1)) * average**2\n",
    "print(\"Vyberovy rozptyl: \" + str(var))\n",
    "\n",
    "mode = scipy.stats.mode(vals).mode[0]\n",
    "print(\"Modus: \" + str(mode))\n",
    "\n",
    "median = np.median(vals)\n",
    "print(\"Median: \" + str(median))"
   ]
  },
  {
   "cell_type": "code",
   "execution_count": 53,
   "id": "f3d55489",
   "metadata": {},
   "outputs": [
    {
     "name": "stdout",
     "output_type": "stream",
     "text": [
      "Aritmerticky priemer: 5.6\n",
      "Vyberovy rozptyl: 2.8000000000000043\n",
      "Vyberova smerodajna odchylka: 1.6733200530681525\n"
     ]
    }
   ],
   "source": [
    "# PRIKLAD 1 - uloha 2\n",
    "\n",
    "#INPUT\n",
    "vals = np.array([6, 6, 4, 8, 4])\n",
    "#-----\n",
    "\n",
    "n = vals.size\n",
    "\n",
    "average = vals.sum() / n\n",
    "print(\"Aritmerticky priemer: \" + str(average))\n",
    "\n",
    "var = (1/(n-1)) * np.sum(vals**2) - (n/(n-1)) * average**2\n",
    "print(\"Vyberovy rozptyl: \" + str(var))\n",
    "\n",
    "dev = var**(1/2)\n",
    "print(\"Vyberova smerodajna odchylka: \" + str(dev))"
   ]
  },
  {
   "cell_type": "code",
   "execution_count": 54,
   "id": "13a82c11",
   "metadata": {},
   "outputs": [
    {
     "name": "stdout",
     "output_type": "stream",
     "text": [
      "Modus: 4\n",
      "Median: 4.5\n"
     ]
    }
   ],
   "source": [
    "# PRIKLAD 1 - uloha 3\n",
    "\n",
    "#INPUT\n",
    "vals = np.array([6, 4, 4, 4, 5, 3, 6, 6, 4, 5])\n",
    "#-----\n",
    "\n",
    "mode = scipy.stats.mode(vals).mode[0]\n",
    "print(\"Modus: \" + str(mode))\n",
    "\n",
    "median = np.median(vals)\n",
    "print(\"Median: \" + str(median))"
   ]
  },
  {
   "cell_type": "code",
   "execution_count": 55,
   "id": "529842a0",
   "metadata": {},
   "outputs": [
    {
     "name": "stdout",
     "output_type": "stream",
     "text": [
      "Absolutna cetnost: 2\n",
      "Relativna cetnost: 0.2\n",
      "Absolutna kumulativna cetnost: 7\n",
      "Relativna kumulativna cetnost: 0.7\n"
     ]
    }
   ],
   "source": [
    "# PRIKLAD 1 - uloha 4\n",
    "\n",
    "#INPUT\n",
    "vals = np.array([7, 4, 7, 4, 5, 6, 6, 7, 5, 3])\n",
    "look_for = 6\n",
    "#-----\n",
    "\n",
    "n = vals.size\n",
    "\n",
    "abs_freq = np.count_nonzero(vals == look_for)\n",
    "print(\"Absolutna cetnost: \" + str(abs_freq))\n",
    "\n",
    "rel_freq = abs_freq / n\n",
    "print(\"Relativna cetnost: \" + str(rel_freq))\n",
    "\n",
    "cum_freq = 0\n",
    "for i in vals:\n",
    "    if(i <= look_for):\n",
    "        cum_freq += 1\n",
    "print(\"Absolutna kumulativna cetnost: \" + str(cum_freq))\n",
    "\n",
    "rel_cum_freq = cum_freq / n\n",
    "print(\"Relativna kumulativna cetnost: \" + str(rel_cum_freq))"
   ]
  },
  {
   "cell_type": "code",
   "execution_count": 56,
   "id": "a8ccd9a3",
   "metadata": {
    "scrolled": false
   },
   "outputs": [
    {
     "name": "stdout",
     "output_type": "stream",
     "text": [
      "Bodovy odhad strednej hodnoty: 51.0\n",
      "Interval spolahlivosti strednej hodnoty: (46.22793744802103, 55.77206255197897)\n"
     ]
    }
   ],
   "source": [
    "# PRIKLAD 2 - uloha 1\n",
    "\n",
    "#INPUT\n",
    "vals = np.array([52, 57, 40, 66, 56, 52, 50, 37, 51, 49])\n",
    "# t0.95(10 - 1)\n",
    "student = 1.833\n",
    "#-----\n",
    "\n",
    "n = vals.size\n",
    "\n",
    "average = vals.sum() / n\n",
    "print(\"Bodovy odhad strednej hodnoty: \" + str(average))\n",
    "\n",
    "var = (1/(n-1)) * np.sum(vals**2) - (n/(n-1)) * average**2\n",
    "dev = var**(1/2)\n",
    "\n",
    "left_int = average - student * (dev / n**(1/2))\n",
    "right_int = average + student * (dev / n**(1/2))\n",
    "print(\"Interval spolahlivosti strednej hodnoty: (\" + str(left_int) + \", \" + str(right_int) + \")\")"
   ]
  },
  {
   "cell_type": "code",
   "execution_count": 57,
   "id": "48e72fd3",
   "metadata": {},
   "outputs": [
    {
     "name": "stdout",
     "output_type": "stream",
     "text": [
      "Interval spolahlivosti strednej hodnoty: (989.878608, 1000.141392)\n"
     ]
    }
   ],
   "source": [
    "# PRIKLAD 2 - uloha 2\n",
    "\n",
    "#INPUT\n",
    "average = 995.01\n",
    "var = 396.8064\n",
    "n = 100\n",
    "# u0.995\n",
    "norm = 2.576\n",
    "#-----\n",
    "\n",
    "dev = var**(1/2)\n",
    "\n",
    "left_int = average - norm * (dev / n**(1/2))\n",
    "right_int = average + norm * (dev / n**(1/2))\n",
    "print(\"Interval spolahlivosti strednej hodnoty: (\" + str(left_int) + \", \" + str(right_int) + \")\")"
   ]
  },
  {
   "cell_type": "code",
   "execution_count": 58,
   "id": "258c75a3",
   "metadata": {},
   "outputs": [
    {
     "name": "stdout",
     "output_type": "stream",
     "text": [
      "Bodovy odhad rozptylu: 5.125000000000114\n",
      "Interval spolahlivosti rozptylu: (2.6439672406010777, 15.001829491401722)\n"
     ]
    }
   ],
   "source": [
    "# PRIKLAD 2 - uloha 3\n",
    "\n",
    "#INPUT\n",
    "vals = np.array([23.9, 22.3, 23.2, 17.3, 20.4, 23.7, 21, 21.8, 18.7])\n",
    "# xi0.95(9 - 1)\n",
    "xi_a = 15.507\n",
    "# xi0.05(9 - 1)\n",
    "xi_b = 2.733\n",
    "#-----\n",
    "\n",
    "n = vals.size\n",
    "\n",
    "average = vals.sum() / n\n",
    "var = (1/(n-1)) * np.sum(vals**2) - (n/(n-1)) * average**2\n",
    "print(\"Bodovy odhad rozptylu: \" + str(var))\n",
    "\n",
    "left_int = ((n - 1) * var) / xi_a\n",
    "right_int = ((n - 1) * var) / xi_b\n",
    "print(\"Interval spolahlivosti rozptylu: (\" + str(left_int) + \", \" + str(right_int) + \")\")"
   ]
  },
  {
   "cell_type": "code",
   "execution_count": 59,
   "id": "853dd317",
   "metadata": {},
   "outputs": [
    {
     "name": "stdout",
     "output_type": "stream",
     "text": [
      "Testovacia statistika = 2.1493589878149573\n",
      "Kriticky obor: (-inf, -2.977) U (2.977, inf)\n"
     ]
    }
   ],
   "source": [
    "# PRIKLAD 3 - uloha 1\n",
    "\n",
    "#INPUT\n",
    "vals = np.array([6.8, 6.6, 5.4, 6.9, 6.2, 6.6, 7.3, 5.8, 7.1, 5.5, 7, 6.4, 5.7, 5.2, 5.7])\n",
    "test = 5.9\n",
    "# t0.995(15 - 1)\n",
    "student = 2.977\n",
    "#-----\n",
    "\n",
    "n = vals.size\n",
    "\n",
    "sum2 = np.sum(vals**2)\n",
    "average = vals.sum() / n\n",
    "s = ((1 / (n-1)) * (sum2 - n * average**2))**(1/2)\n",
    "\n",
    "t = (average - test) * n**(1/2) / s\n",
    "print(\"Testovacia statistika = \" + str(t))\n",
    "\n",
    "print(\"Kriticky obor: (-inf, \" + str(-student) + \") U (\" + str(student) + \", inf)\")"
   ]
  },
  {
   "cell_type": "code",
   "execution_count": 60,
   "id": "17b1d246",
   "metadata": {},
   "outputs": [
    {
     "name": "stdout",
     "output_type": "stream",
     "text": [
      "Testovacia statistika = 10.848999999997323\n",
      "Kriticky obor: (-inf, 1.735) U (23.589, inf)\n"
     ]
    }
   ],
   "source": [
    "# PRIKLAD 3 - uloha 2\n",
    "\n",
    "#INPUT\n",
    "vals = np.array([299, 297, 313, 294, 300, 321, 292, 282, 300, 293])\n",
    "test = 10\n",
    "# xi0.005(10 - 1)\n",
    "xi_a = 1.735\n",
    "# xi0.995(10 - 1)\n",
    "xi_b = 23.589\n",
    "#-----\n",
    "\n",
    "n = vals.size\n",
    "\n",
    "average = vals.sum() / n\n",
    "var = (1/(n-1)) * np.sum(vals**2) - (n/(n-1)) * average**2\n",
    "\n",
    "k = (n - 1) * var / test**2\n",
    "print(\"Testovacia statistika = \" + str(k))\n",
    "\n",
    "print(\"Kriticky obor: (-inf, \" + str(xi_a) + \") U (\" + str(xi_b) + \", inf)\")"
   ]
  },
  {
   "cell_type": "code",
   "execution_count": 61,
   "id": "71de85d0",
   "metadata": {},
   "outputs": [
    {
     "name": "stdout",
     "output_type": "stream",
     "text": [
      "Testovacia statistika: 0.9277095503114279\n",
      "Kriticky obor: (-inf, 0.238) U (4.823, inf)\n"
     ]
    }
   ],
   "source": [
    "# PRIKLAD 3 - uloha 3\n",
    "\n",
    "#INPUT\n",
    "valsX = np.array([494, 507, 506, 502, 490, 493, 523, 490, 490, 490])\n",
    "valsY = np.array([477, 498, 492, 517, 504, 497, 493, 501])\n",
    "# f0.025(10 - 1, 8 - 1)\n",
    "fisch_a = 0.238\n",
    "# f0.975(10 - 1, 8 - 1)\n",
    "fisch_b = 4.823\n",
    "#-----\n",
    "\n",
    "nX = valsX.size\n",
    "nY = valsY.size\n",
    "averageX = valsX.sum() / nX\n",
    "varX = (1/(nX-1)) * np.sum(valsX**2) - (nX/(nX-1)) * averageX**2\n",
    "\n",
    "averageY = valsY.sum() / nY\n",
    "varY = (1/(nY-1)) * np.sum(valsY**2) - (nY/(nY-1)) * averageY**2\n",
    "\n",
    "f = varX / varY\n",
    "print(\"Testovacia statistika: \" + str(f))\n",
    "\n",
    "print(\"Kriticky obor: (-inf, \" + str(fisch_a) + \") U (\" + str(fisch_b) + \", inf)\")"
   ]
  },
  {
   "cell_type": "code",
   "execution_count": 65,
   "id": "cfccd5d6",
   "metadata": {},
   "outputs": [
    {
     "name": "stdout",
     "output_type": "stream",
     "text": [
      "Rovnica1: 12*beta0 + 48*beta1 = 3938\n",
      "Rovnica2: 48*beta0 + 202*beta1 = 16494\n",
      "Odhad beta0: 31.366666666666674\n",
      "Odhad beta1: 74.2\n",
      "Rovnica: y = 31.366666666666674 + 74.2*x\n",
      "Pre x = 4, y = 328.1666666666667\n",
      "Odhad rozptylu: 190.52666666666045\n",
      "R^2 = 0.9665517745852484\n"
     ]
    }
   ],
   "source": [
    "# PRIKLAD 4 - uloha 1\n",
    "\n",
    "#INPUT\n",
    "valsX = np.array([3, 3, 4, 5, 6, 4, 4, 3, 4, 3, 5, 4])\n",
    "valsY = np.array([251, 263, 331, 390, 469, 316, 330, 244, 360, 245, 417, 322])\n",
    "inX = 4\n",
    "#-----\n",
    "\n",
    "n = valsX.size\n",
    "\n",
    "sumX = np.sum(valsX)\n",
    "sumY = np.sum(valsY)\n",
    "sumX2 = np.sum(valsX**2)\n",
    "sumY2 = np.sum(valsY**2)\n",
    "sumXY = np.sum(valsX * valsY)\n",
    "\n",
    "print(\"Rovnica1: \" + str(n) + \"*beta0 + \" + str(sumX) + \"*beta1 = \" + str(sumY))\n",
    "print(\"Rovnica2: \" + str(sumX) + \"*beta0 + \" + str(sumX2) + \"*beta1 = \" + str(sumXY))\n",
    "\n",
    "estBeta1 =  (n * sumXY - sumX * sumY) / (n * sumX2 - sumX**2)\n",
    "estBeta0 = sumY / n - estBeta1 * sumX / n\n",
    "print(\"Odhad beta0: \" + str(estBeta0))\n",
    "print(\"Odhad beta1: \" + str(estBeta1))\n",
    "\n",
    "print(\"Rovnica: y = \" + str(estBeta0) + \" + \" + str(estBeta1) + \"*x\")\n",
    "\n",
    "outY = estBeta0 + estBeta1 * inX\n",
    "print(\"Pre x = \" + str(inX) + \", y = \" + str(outY))\n",
    "\n",
    "se = sumY2 - estBeta0 * sumY - estBeta1 * sumXY\n",
    "var = se / (n - 2)\n",
    "print(\"Odhad rozptylu: \" + str(var))\n",
    "\n",
    "averageY = sumY / n\n",
    "st = sumY2 - n*(averageY**2)\n",
    "r2 = 1 - (se/st)\n",
    "\n",
    "print(\"R^2 = \" + str(r2))"
   ]
  },
  {
   "cell_type": "code",
   "execution_count": 63,
   "id": "f6e5a5c4",
   "metadata": {
    "scrolled": true
   },
   "outputs": [
    {
     "name": "stdout",
     "output_type": "stream",
     "text": [
      "Odhad beta0: -0.1144186046511777\n",
      "Odhad beta1: 0.10158686730506306\n",
      "Odhad beta2: 0.026566347469223928\n",
      "Rovnica: y = -0.1144186046511777 + 0.10158686730506306*x + 0.026566347469223928*z\n",
      "Pre x = 6 a z = 29, y = 1.2655266757866945\n",
      "Odhad rozptylu: 0.007654914989105041\n",
      "R^2 = 0.7514176798861829\n"
     ]
    }
   ],
   "source": [
    "# PRIKLAD 4 - uloha 2\n",
    "\n",
    "#INPUT\n",
    "valsX = np.array([3, 4, 4, 5, 5, 6, 6, 6, 7, 7])\n",
    "valsZ = np.array([25, 27, 27, 29, 30, 25, 25, 25, 26, 26])\n",
    "valsY = np.array([0.9, 0.92, 1.04, 1.22, 1.16, 1.18, 1.11, 1.13, 1.44, 1.18])\n",
    "inX = 6\n",
    "inZ = 29\n",
    "#-----\n",
    "\n",
    "n = valsX.size\n",
    "\n",
    "sumX = np.sum(valsX)\n",
    "sumZ = np.sum(valsZ)\n",
    "sumY = np.sum(valsY)\n",
    "sumX2 = np.sum(valsX**2)\n",
    "sumZ2 = np.sum(valsZ**2)\n",
    "sumY2 = np.sum(valsY**2)\n",
    "sumXZ = np.sum(valsX * valsZ)\n",
    "sumXY = np.sum(valsX * valsY)\n",
    "sumZY = np.sum(valsZ * valsY)\n",
    "\n",
    "mat1 = np.matrix([[n, sumX, sumZ], [sumX, sumX2, sumXZ], [sumZ, sumXZ, sumZ2]])\n",
    "mat1_inv = np.linalg.inv(mat1)\n",
    "mat2 = np.matrix([[sumY], [sumXY], [sumZY]])\n",
    "betaMat = mat1_inv * mat2\n",
    "\n",
    "estBeta0 = betaMat[0, 0]\n",
    "estBeta1 = betaMat[1, 0]\n",
    "estBeta2 = betaMat[2, 0]\n",
    "print(\"Odhad beta0: \" + str(estBeta0))\n",
    "print(\"Odhad beta1: \" + str(estBeta1))\n",
    "print(\"Odhad beta2: \" + str(estBeta2))\n",
    "\n",
    "print(\"Rovnica: y = \" + str(estBeta0) + \" + \" + str(estBeta1) + \"*x\" + \" + \" + str(estBeta2) + \"*z\")\n",
    "\n",
    "outY = estBeta0 + estBeta1 * inX + estBeta2 * inZ\n",
    "print(\"Pre x = \" + str(inX) + \" a z = \" + str(inZ) + \", y = \" + str(outY))\n",
    "\n",
    "se = sumY2 - estBeta0 * sumY - estBeta1 * sumXY - estBeta2 * sumZY\n",
    "var = se / (n - 3)\n",
    "print(\"Odhad rozptylu: \" + str(var))\n",
    "\n",
    "averageY = sumY / n\n",
    "st = sumY2 - n*(averageY**2)\n",
    "r2 = 1 - (se/st)\n",
    "print(\"R^2 = \" + str(r2))"
   ]
  },
  {
   "cell_type": "code",
   "execution_count": 64,
   "id": "9ef3ce82",
   "metadata": {},
   "outputs": [
    {
     "name": "stdout",
     "output_type": "stream",
     "text": [
      "Pearsonov koeficient = 0.9159170705498381\n",
      "Testovacia statistika = 6.845972299143318\n",
      "Kriticky obor: (-inf, -2.201) U (2.201, inf)\n"
     ]
    }
   ],
   "source": [
    "# PRIKLAD 4 - uloha 3\n",
    "\n",
    "#INPUT\n",
    "valsX = np.array([51.8, 48.3, 57.1, 49.5, 62.9, 41.9, 37.4, 50.2, 59.8, 47.6, 38.1])\n",
    "valsY = np.array([15.1, 15.8, 18.7, 13.4, 17.2, 12, 9.5, 16.6, 17.8, 14.5, 10.3])\n",
    "# t0.975(11 - 2)\n",
    "student =  2.201\n",
    "#-----\n",
    "\n",
    "n = valsX.size\n",
    "\n",
    "sumX = np.sum(valsX)\n",
    "sumY = np.sum(valsY)\n",
    "sumX2 = np.sum(valsX**2)\n",
    "sumY2 = np.sum(valsY**2)\n",
    "sumXY = np.sum(valsX * valsY)\n",
    "\n",
    "averageX = valsX.sum() / n\n",
    "averageY = valsY.sum() / n\n",
    "\n",
    "p = (sumXY - n * averageX * averageY) / ((sumX2 - n * averageX**2) * (sumY2 - n * averageY**2))**(1/2)\n",
    "print(\"Pearsonov koeficient = \" + str(p))\n",
    "\n",
    "t = (p * (n - 2)**(1/2)) / (1 - p**2)**(1/2)\n",
    "print(\"Testovacia statistika = \" + str(t))\n",
    "\n",
    "print(\"Kriticky obor: (-inf, \" + str(-student) + \") U (\" + str(student) + \", inf)\")"
   ]
  }
 ],
 "metadata": {
  "kernelspec": {
   "display_name": "Python 3 (ipykernel)",
   "language": "python",
   "name": "python3"
  },
  "language_info": {
   "codemirror_mode": {
    "name": "ipython",
    "version": 3
   },
   "file_extension": ".py",
   "mimetype": "text/x-python",
   "name": "python",
   "nbconvert_exporter": "python",
   "pygments_lexer": "ipython3",
   "version": "3.9.7"
  }
 },
 "nbformat": 4,
 "nbformat_minor": 5
}
